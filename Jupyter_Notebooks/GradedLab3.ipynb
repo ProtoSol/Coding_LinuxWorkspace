{
 "cells": [
  {
   "cell_type": "code",
   "execution_count": 1,
   "id": "2fdca8ef",
   "metadata": {
    "scrolled": false
   },
   "outputs": [
    {
     "data": {
      "image/png": "[encoded data removed]",
      "text/plain": [
       "<Figure size 640x480 with 1 Axes>"
      ]
     },
     "metadata": {},
     "output_type": "display_data"
    }
   ],
   "source": [
    "import numpy as np\n",
    "import matplotlib.pyplot as plt\n",
    "from sklearn import datasets\n",
    "from sklearn.model_selection import train_test_split\n",
    "from sklearn.linear_model import LinearRegression\n",
    "\n",
    "diabetes = datasets.load_diabetes()\n",
    "\n",
    "X = diabetes.data[:, np.newaxis, 2]\n",
    "\n",
    "X_train, X_test, y_train, y_test = train_test_split(X, diabetes.target, test_size=0.2, random_state=0)\n",
    "\n",
    "model = LinearRegression()\n",
    "\n",
    "model.fit(X_train, y_train)\n",
    "\n",
    "y_pred = model.predict(X_test)\n",
    "\n",
    "plt.scatter(X_test, y_test, color='black')\n",
    "plt.plot(X_test, y_pred, color='blue', linewidth=3)\n",
    "\n",
    "plt.xlabel('X')\n",
    "plt.ylabel('y')\n",
    "plt.title('Linear Regression on Diabetes Dataset')\n",
    "plt.show()"
   ]
  },
  {
   "cell_type": "code",
   "execution_count": 5,
   "id": "2cf881d9",
   "metadata": {},
   "outputs": [
    {
     "name": "stdout",
     "output_type": "stream",
     "text": [
      "  First Name Last Name               Address      City  Age\n",
      "0     Mickey     Mouse       123 Fantasy Way   Anaheim   73\n",
      "1        Bat       Man        321 Cavern Ave    Gotham   54\n",
      "2     Wonder     Woman         987 Truth Way  Paradise   39\n",
      "3     Donald      Duck      555 Quack Street   Mallard   65\n",
      "4       Bugs     Bunny     567 Carrot Street    Rascal   58\n",
      "5      Wiley    Coyote          999 Acme Way    Canyon   61\n",
      "6        Cat     Woman  234 Purrffect Street  Hairball   32\n",
      "7     Tweety      Bird                   543  Itotltaw   28\n"
     ]
    }
   ],
   "source": [
    "import pandas as pd\n",
    "\n",
    "df = pd.DataFrame({\n",
    "    'First Name':[\"Mickey\", \"Bat\", \"Wonder\", \"Donald\", \"Bugs\", \"Wiley\", \"Cat\", \"Tweety\"],\n",
    "    'Last Name':[\"Mouse\", \"Man\", \"Woman\", \"Duck\", \"Bunny\", \"Coyote\", \"Woman\", \"Bird\"],\n",
    "    'Address':[\"123 Fantasy Way\", \"321 Cavern Ave\", \"987 Truth Way\", \"555 Quack Street\", \"567 Carrot Street\", \"999 Acme Way\", \"234 Purrffect Street\", \"543\"],\n",
    "    'City':[\"Anaheim\", \"Gotham\", \"Paradise\", \"Mallard\", \"Rascal\", \"Canyon\", \"Hairball\", \"Itotltaw\"],\n",
    "    'Age':[73, 54, 39, 65, 58, 61, 32, 28]\n",
    "}, columns = ['First Name', 'Last Name', 'Address', 'City', 'Age'])\n",
    "\n",
    "print(df)"
   ]
  },
  {
   "cell_type": "code",
   "execution_count": 12,
   "id": "01d07812",
   "metadata": {
    "scrolled": false
   },
   "outputs": [
    {
     "data": {
      "text/html": [
       "<div>\n",
       "<style scoped>\n",
       "    .dataframe tbody tr th:only-of-type {\n",
       "        vertical-align: middle;\n",
       "    }\n",
       "\n",
       "    .dataframe tbody tr th {\n",
       "        vertical-align: top;\n",
       "    }\n",
       "\n",
       "    .dataframe thead th {\n",
       "        text-align: right;\n",
       "    }\n",
       "</style>\n",
       "<table border=\"1\" class=\"dataframe\">\n",
       "  <thead>\n",
       "    <tr style=\"text-align: right;\">\n",
       "      <th></th>\n",
       "      <th>First Name</th>\n",
       "      <th>Last Name</th>\n",
       "      <th>Address</th>\n",
       "      <th>City</th>\n",
       "      <th>Age</th>\n",
       "    </tr>\n",
       "  </thead>\n",
       "  <tbody>\n",
       "    <tr>\n",
       "      <th>0</th>\n",
       "      <td>Mickey</td>\n",
       "      <td>Mouse</td>\n",
       "      <td>123 Fantasy Way</td>\n",
       "      <td>Anaheim</td>\n",
       "      <td>Nil</td>\n",
       "    </tr>\n",
       "    <tr>\n",
       "      <th>1</th>\n",
       "      <td>Bat</td>\n",
       "      <td>Man</td>\n",
       "      <td>321 Cavern Ave</td>\n",
       "      <td>Gotham</td>\n",
       "      <td>Nil</td>\n",
       "    </tr>\n",
       "    <tr>\n",
       "      <th>2</th>\n",
       "      <td>Wonder</td>\n",
       "      <td>Woman</td>\n",
       "      <td>987 Truth Way</td>\n",
       "      <td>Paradise</td>\n",
       "      <td>Nil</td>\n",
       "    </tr>\n",
       "    <tr>\n",
       "      <th>3</th>\n",
       "      <td>Donald</td>\n",
       "      <td>Duck</td>\n",
       "      <td>555 Quack Street</td>\n",
       "      <td>Mallard</td>\n",
       "      <td>Nil</td>\n",
       "    </tr>\n",
       "    <tr>\n",
       "      <th>4</th>\n",
       "      <td>Bugs</td>\n",
       "      <td>Bunny</td>\n",
       "      <td>567 Carrot Street</td>\n",
       "      <td>Rascal</td>\n",
       "      <td>Nil</td>\n",
       "    </tr>\n",
       "    <tr>\n",
       "      <th>5</th>\n",
       "      <td>Wiley</td>\n",
       "      <td>Coyote</td>\n",
       "      <td>999 Acme Way</td>\n",
       "      <td>Canyon</td>\n",
       "      <td>Nil</td>\n",
       "    </tr>\n",
       "    <tr>\n",
       "      <th>6</th>\n",
       "      <td>Cat</td>\n",
       "      <td>Woman</td>\n",
       "      <td>234 Purrffect Street</td>\n",
       "      <td>Hairball</td>\n",
       "      <td>Nil</td>\n",
       "    </tr>\n",
       "    <tr>\n",
       "      <th>7</th>\n",
       "      <td>Tweety</td>\n",
       "      <td>Bird</td>\n",
       "      <td>543</td>\n",
       "      <td>Itotltaw</td>\n",
       "      <td>Nil</td>\n",
       "    </tr>\n",
       "  </tbody>\n",
       "</table>\n",
       "</div>"
      ],
      "text/plain": [
       "  First Name Last Name               Address      City  Age\n",
       "0     Mickey     Mouse       123 Fantasy Way   Anaheim  Nil\n",
       "1        Bat       Man        321 Cavern Ave    Gotham  Nil\n",
       "2     Wonder     Woman         987 Truth Way  Paradise  Nil\n",
       "3     Donald      Duck      555 Quack Street   Mallard  Nil\n",
       "4       Bugs     Bunny     567 Carrot Street    Rascal  Nil\n",
       "5      Wiley    Coyote          999 Acme Way    Canyon  Nil\n",
       "6        Cat     Woman  234 Purrffect Street  Hairball  Nil\n",
       "7     Tweety      Bird                   543  Itotltaw  Nil"
      ]
     },
     "execution_count": 12,
     "metadata": {},
     "output_type": "execute_result"
    }
   ],
   "source": [
    "df['Age'] = 'Nil'\n",
    "df"
   ]
  },
  {
   "cell_type": "code",
   "execution_count": 13,
   "id": "d8960698",
   "metadata": {},
   "outputs": [
    {
     "name": "stdout",
     "output_type": "stream",
     "text": [
      "      Values\n",
      "0   0.810096\n",
      "1   0.566762\n",
      "2   0.668325\n",
      "3   0.942751\n",
      "4   0.204686\n",
      "5   0.528609\n",
      "6   0.225940\n",
      "7   0.483493\n",
      "8   0.392141\n",
      "9   0.536352\n",
      "10  0.326394\n",
      "11  0.791441\n",
      "12  0.571824\n",
      "13  0.378548\n",
      "14  0.185376\n",
      "15  0.900527\n",
      "16  0.795347\n",
      "17  0.582789\n",
      "18  0.577217\n",
      "19  0.622901\n",
      "20  0.852737\n",
      "21  0.931859\n",
      "22  0.682258\n",
      "23  0.894876\n",
      "24  0.876365\n",
      "25  0.570717\n",
      "26  0.816969\n",
      "27  0.762841\n",
      "28  0.889347\n",
      "29  0.095980\n",
      "30  0.607869\n",
      "31  0.584586\n",
      "32  0.904836\n",
      "33  0.276885\n",
      "34  0.196664\n",
      "35  0.835867\n",
      "36  0.301361\n",
      "37  0.716578\n",
      "38  0.958673\n",
      "39  0.012859\n",
      "Mean: 0.5965411255757852\n",
      "Variance: 0.0702696662896828\n",
      "Standard Deviation: 0.26508426262168566\n"
     ]
    }
   ],
   "source": [
    "import pandas as pd\n",
    "import numpy as np\n",
    "\n",
    "data = {'Values': np.random.randint(1, 100, size=40)}\n",
    "\n",
    "df = pd.DataFrame(data)\n",
    "\n",
    "mean = df['Values'].mean()\n",
    "variance = df['Values'].var()\n",
    "std_dev = df['Values'].std()\n",
    "\n",
    "print(df)\n",
    "print(\"Mean:\", mean)\n",
    "print(\"Variance:\", variance)\n",
    "print(\"Standard Deviation:\", std_dev)"
   ]
  }
 ],
 "metadata": {
  "kernelspec": {
   "display_name": "Python 3 (ipykernel)",
   "language": "python",
   "name": "python3"
  },
  "language_info": {
   "codemirror_mode": {
    "name": "ipython",
    "version": 3
   },
   "file_extension": ".py",
   "mimetype": "text/x-python",
   "name": "python",
   "nbconvert_exporter": "python",
   "pygments_lexer": "ipython3",
   "version": "3.10.9"
  }
 },
 "nbformat": 4,
 "nbformat_minor": 5
}
