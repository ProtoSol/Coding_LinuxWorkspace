{
 "cells": [
  {
   "cell_type": "markdown",
   "metadata": {},
   "source": [
    "# Transformation"
   ]
  },
  {
   "cell_type": "code",
   "execution_count": 1,
   "metadata": {},
   "outputs": [],
   "source": [
    "# Import the Libraries\n",
    "import pandas as pd\n",
    "import numpy as np\n",
    "import matplotlib.pyplot as plt\n",
    "import seaborn as sns"
   ]
  },
  {
   "cell_type": "code",
   "execution_count": 4,
   "metadata": {},
   "outputs": [
    {
     "data": {
      "text/html": [
       "<div>\n",
       "<style scoped>\n",
       "    .dataframe tbody tr th:only-of-type {\n",
       "        vertical-align: middle;\n",
       "    }\n",
       "\n",
       "    .dataframe tbody tr th {\n",
       "        vertical-align: top;\n",
       "    }\n",
       "\n",
       "    .dataframe thead th {\n",
       "        text-align: right;\n",
       "    }\n",
       "</style>\n",
       "<table border=\"1\" class=\"dataframe\">\n",
       "  <thead>\n",
       "    <tr style=\"text-align: right;\">\n",
       "      <th></th>\n",
       "      <th>values</th>\n",
       "    </tr>\n",
       "  </thead>\n",
       "  <tbody>\n",
       "    <tr>\n",
       "      <th>0</th>\n",
       "      <td>0.795875</td>\n",
       "    </tr>\n",
       "    <tr>\n",
       "      <th>1</th>\n",
       "      <td>1.255931</td>\n",
       "    </tr>\n",
       "    <tr>\n",
       "      <th>2</th>\n",
       "      <td>0.923223</td>\n",
       "    </tr>\n",
       "    <tr>\n",
       "      <th>3</th>\n",
       "      <td>0.787201</td>\n",
       "    </tr>\n",
       "    <tr>\n",
       "      <th>4</th>\n",
       "      <td>0.551048</td>\n",
       "    </tr>\n",
       "    <tr>\n",
       "      <th>...</th>\n",
       "      <td>...</td>\n",
       "    </tr>\n",
       "    <tr>\n",
       "      <th>995</th>\n",
       "      <td>0.102782</td>\n",
       "    </tr>\n",
       "    <tr>\n",
       "      <th>996</th>\n",
       "      <td>0.723446</td>\n",
       "    </tr>\n",
       "    <tr>\n",
       "      <th>997</th>\n",
       "      <td>2.787289</td>\n",
       "    </tr>\n",
       "    <tr>\n",
       "      <th>998</th>\n",
       "      <td>0.259609</td>\n",
       "    </tr>\n",
       "    <tr>\n",
       "      <th>999</th>\n",
       "      <td>1.130540</td>\n",
       "    </tr>\n",
       "  </tbody>\n",
       "</table>\n",
       "<p>1000 rows × 1 columns</p>\n",
       "</div>"
      ],
      "text/plain": [
       "       values\n",
       "0    0.795875\n",
       "1    1.255931\n",
       "2    0.923223\n",
       "3    0.787201\n",
       "4    0.551048\n",
       "..        ...\n",
       "995  0.102782\n",
       "996  0.723446\n",
       "997  2.787289\n",
       "998  0.259609\n",
       "999  1.130540\n",
       "\n",
       "[1000 rows x 1 columns]"
      ]
     },
     "execution_count": 4,
     "metadata": {},
     "output_type": "execute_result"
    }
   ],
   "source": [
    "# Generate Non Normalized Data (Exponential distribution)\n",
    "np.random.seed(0)\n",
    "data = np.random.exponential(size = 1000)\n",
    "\n",
    "# Convert this in DataFrame\n",
    "df = pd.DataFrame(data, columns=['values'])\n",
    "df"
   ]
  },
  {
   "cell_type": "markdown",
   "metadata": {},
   "source": [
    "## Visualize the Data"
   ]
  },
  {
   "cell_type": "code",
   "execution_count": 6,
   "metadata": {},
   "outputs": [
    {
     "data": {
      "text/plain": [
       "<Axes: ylabel='Count'>"
      ]
     },
     "execution_count": 6,
     "metadata": {},
     "output_type": "execute_result"
    },
    {
     "data": {
      "image/png": "[encoded data removed]",
      "text/plain": [
       "<Figure size 640x480 with 1 Axes>"
      ]
     },
     "metadata": {},
     "output_type": "display_data"
    }
   ],
   "source": [
    "# Plot the Histogram using Seaborn\n",
    "sns.histplot(df, kde=True)"
   ]
  },
  {
   "cell_type": "markdown",
   "metadata": {},
   "source": [
    "## Power Transformation To Acess Box-Cox, Yeo-Johnson, and Quantile Transformation"
   ]
  },
  {
   "cell_type": "markdown",
   "metadata": {},
   "source": [
    "### Box-Cox Transformation"
   ]
  },
  {
   "cell_type": "markdown",
   "metadata": {},
   "source": [
    "> The Data should be 0 to +ve values."
   ]
  },
  {
   "cell_type": "code",
   "execution_count": 7,
   "metadata": {},
   "outputs": [
    {
     "data": {
      "text/html": [
       "<div>\n",
       "<style scoped>\n",
       "    .dataframe tbody tr th:only-of-type {\n",
       "        vertical-align: middle;\n",
       "    }\n",
       "\n",
       "    .dataframe tbody tr th {\n",
       "        vertical-align: top;\n",
       "    }\n",
       "\n",
       "    .dataframe thead th {\n",
       "        text-align: right;\n",
       "    }\n",
       "</style>\n",
       "<table border=\"1\" class=\"dataframe\">\n",
       "  <thead>\n",
       "    <tr style=\"text-align: right;\">\n",
       "      <th></th>\n",
       "      <th>values</th>\n",
       "    </tr>\n",
       "  </thead>\n",
       "  <tbody>\n",
       "    <tr>\n",
       "      <th>0</th>\n",
       "      <td>0.158969</td>\n",
       "    </tr>\n",
       "    <tr>\n",
       "      <th>1</th>\n",
       "      <td>0.602906</td>\n",
       "    </tr>\n",
       "    <tr>\n",
       "      <th>2</th>\n",
       "      <td>0.298068</td>\n",
       "    </tr>\n",
       "    <tr>\n",
       "      <th>3</th>\n",
       "      <td>0.148897</td>\n",
       "    </tr>\n",
       "    <tr>\n",
       "      <th>4</th>\n",
       "      <td>-0.164776</td>\n",
       "    </tr>\n",
       "    <tr>\n",
       "      <th>...</th>\n",
       "      <td>...</td>\n",
       "    </tr>\n",
       "    <tr>\n",
       "      <th>995</th>\n",
       "      <td>-1.326721</td>\n",
       "    </tr>\n",
       "    <tr>\n",
       "      <th>996</th>\n",
       "      <td>0.072154</td>\n",
       "    </tr>\n",
       "    <tr>\n",
       "      <th>997</th>\n",
       "      <td>1.506681</td>\n",
       "    </tr>\n",
       "    <tr>\n",
       "      <th>998</th>\n",
       "      <td>-0.744179</td>\n",
       "    </tr>\n",
       "    <tr>\n",
       "      <th>999</th>\n",
       "      <td>0.496160</td>\n",
       "    </tr>\n",
       "  </tbody>\n",
       "</table>\n",
       "<p>1000 rows × 1 columns</p>\n",
       "</div>"
      ],
      "text/plain": [
       "       values\n",
       "0    0.158969\n",
       "1    0.602906\n",
       "2    0.298068\n",
       "3    0.148897\n",
       "4   -0.164776\n",
       "..        ...\n",
       "995 -1.326721\n",
       "996  0.072154\n",
       "997  1.506681\n",
       "998 -0.744179\n",
       "999  0.496160\n",
       "\n",
       "[1000 rows x 1 columns]"
      ]
     },
     "execution_count": 7,
     "metadata": {},
     "output_type": "execute_result"
    }
   ],
   "source": [
    "from sklearn.preprocessing import PowerTransformer\n",
    "\n",
    "# Make Box-Cox Transformation\n",
    "pt = PowerTransformer(method='box-cox')\n",
    "transformed_data = pt.fit_transform(df)\n",
    "\n",
    "# Convert this in DataFrame\n",
    "df = pd.DataFrame(transformed_data, columns=['values'])\n",
    "df"
   ]
  },
  {
   "cell_type": "code",
   "execution_count": 8,
   "metadata": {},
   "outputs": [
    {
     "data": {
      "text/plain": [
       "<Axes: ylabel='Count'>"
      ]
     },
     "execution_count": 8,
     "metadata": {},
     "output_type": "execute_result"
    },
    {
     "data": {
      "image/png": "[encoded data removed]",
      "text/plain": [
       "<Figure size 640x480 with 1 Axes>"
      ]
     },
     "metadata": {},
     "output_type": "display_data"
    }
   ],
   "source": [
    "# Visualize the Data\n",
    "sns.histplot(df, kde=True)"
   ]
  },
  {
   "cell_type": "markdown",
   "metadata": {},
   "source": [
    "### Yeo-Johnson Transformation"
   ]
  },
  {
   "cell_type": "code",
   "execution_count": 9,
   "metadata": {},
   "outputs": [
    {
     "data": {
      "text/html": [
       "<div>\n",
       "<style scoped>\n",
       "    .dataframe tbody tr th:only-of-type {\n",
       "        vertical-align: middle;\n",
       "    }\n",
       "\n",
       "    .dataframe tbody tr th {\n",
       "        vertical-align: top;\n",
       "    }\n",
       "\n",
       "    .dataframe thead th {\n",
       "        text-align: right;\n",
       "    }\n",
       "</style>\n",
       "<table border=\"1\" class=\"dataframe\">\n",
       "  <thead>\n",
       "    <tr style=\"text-align: right;\">\n",
       "      <th></th>\n",
       "      <th>values</th>\n",
       "    </tr>\n",
       "  </thead>\n",
       "  <tbody>\n",
       "    <tr>\n",
       "      <th>0</th>\n",
       "      <td>0.153883</td>\n",
       "    </tr>\n",
       "    <tr>\n",
       "      <th>1</th>\n",
       "      <td>0.599957</td>\n",
       "    </tr>\n",
       "    <tr>\n",
       "      <th>2</th>\n",
       "      <td>0.293416</td>\n",
       "    </tr>\n",
       "    <tr>\n",
       "      <th>3</th>\n",
       "      <td>0.143789</td>\n",
       "    </tr>\n",
       "    <tr>\n",
       "      <th>4</th>\n",
       "      <td>-0.169869</td>\n",
       "    </tr>\n",
       "    <tr>\n",
       "      <th>...</th>\n",
       "      <td>...</td>\n",
       "    </tr>\n",
       "    <tr>\n",
       "      <th>995</th>\n",
       "      <td>-1.322621</td>\n",
       "    </tr>\n",
       "    <tr>\n",
       "      <th>996</th>\n",
       "      <td>0.066921</td>\n",
       "    </tr>\n",
       "    <tr>\n",
       "      <th>997</th>\n",
       "      <td>1.513415</td>\n",
       "    </tr>\n",
       "    <tr>\n",
       "      <th>998</th>\n",
       "      <td>-0.746143</td>\n",
       "    </tr>\n",
       "    <tr>\n",
       "      <th>999</th>\n",
       "      <td>0.492506</td>\n",
       "    </tr>\n",
       "  </tbody>\n",
       "</table>\n",
       "<p>1000 rows × 1 columns</p>\n",
       "</div>"
      ],
      "text/plain": [
       "       values\n",
       "0    0.153883\n",
       "1    0.599957\n",
       "2    0.293416\n",
       "3    0.143789\n",
       "4   -0.169869\n",
       "..        ...\n",
       "995 -1.322621\n",
       "996  0.066921\n",
       "997  1.513415\n",
       "998 -0.746143\n",
       "999  0.492506\n",
       "\n",
       "[1000 rows x 1 columns]"
      ]
     },
     "execution_count": 9,
     "metadata": {},
     "output_type": "execute_result"
    }
   ],
   "source": [
    "from sklearn.preprocessing import PowerTransformer\n",
    "\n",
    "# Make Box-Cox Transformation\n",
    "pt = PowerTransformer(method='yeo-johnson')\n",
    "transformed_data = pt.fit_transform(df)\n",
    "\n",
    "# Convert this in DataFrame\n",
    "df = pd.DataFrame(transformed_data, columns=['values'])\n",
    "df"
   ]
  },
  {
   "cell_type": "code",
   "execution_count": 10,
   "metadata": {},
   "outputs": [
    {
     "data": {
      "text/plain": [
       "<Axes: ylabel='Count'>"
      ]
     },
     "execution_count": 10,
     "metadata": {},
     "output_type": "execute_result"
    },
    {
     "data": {
      "image/png": "[encoded data removed]",
      "text/plain": [
       "<Figure size 640x480 with 1 Axes>"
      ]
     },
     "metadata": {},
     "output_type": "display_data"
    }
   ],
   "source": [
    "# Visualize the Data\n",
    "sns.histplot(df, kde=True)"
   ]
  },
  {
   "cell_type": "markdown",
   "metadata": {},
   "source": [
    "### Quantile Transformation"
   ]
  },
  {
   "cell_type": "code",
   "execution_count": 11,
   "metadata": {},
   "outputs": [
    {
     "data": {
      "text/html": [
       "<div>\n",
       "<style scoped>\n",
       "    .dataframe tbody tr th:only-of-type {\n",
       "        vertical-align: middle;\n",
       "    }\n",
       "\n",
       "    .dataframe tbody tr th {\n",
       "        vertical-align: top;\n",
       "    }\n",
       "\n",
       "    .dataframe thead th {\n",
       "        text-align: right;\n",
       "    }\n",
       "</style>\n",
       "<table border=\"1\" class=\"dataframe\">\n",
       "  <thead>\n",
       "    <tr style=\"text-align: right;\">\n",
       "      <th></th>\n",
       "      <th>values</th>\n",
       "    </tr>\n",
       "  </thead>\n",
       "  <tbody>\n",
       "    <tr>\n",
       "      <th>0</th>\n",
       "      <td>1.764052</td>\n",
       "    </tr>\n",
       "    <tr>\n",
       "      <th>1</th>\n",
       "      <td>0.400157</td>\n",
       "    </tr>\n",
       "    <tr>\n",
       "      <th>2</th>\n",
       "      <td>0.978738</td>\n",
       "    </tr>\n",
       "    <tr>\n",
       "      <th>3</th>\n",
       "      <td>2.240893</td>\n",
       "    </tr>\n",
       "    <tr>\n",
       "      <th>4</th>\n",
       "      <td>1.867558</td>\n",
       "    </tr>\n",
       "    <tr>\n",
       "      <th>...</th>\n",
       "      <td>...</td>\n",
       "    </tr>\n",
       "    <tr>\n",
       "      <th>995</th>\n",
       "      <td>0.412871</td>\n",
       "    </tr>\n",
       "    <tr>\n",
       "      <th>996</th>\n",
       "      <td>-0.198399</td>\n",
       "    </tr>\n",
       "    <tr>\n",
       "      <th>997</th>\n",
       "      <td>0.094192</td>\n",
       "    </tr>\n",
       "    <tr>\n",
       "      <th>998</th>\n",
       "      <td>-1.147611</td>\n",
       "    </tr>\n",
       "    <tr>\n",
       "      <th>999</th>\n",
       "      <td>-0.358114</td>\n",
       "    </tr>\n",
       "  </tbody>\n",
       "</table>\n",
       "<p>1000 rows × 1 columns</p>\n",
       "</div>"
      ],
      "text/plain": [
       "       values\n",
       "0    1.764052\n",
       "1    0.400157\n",
       "2    0.978738\n",
       "3    2.240893\n",
       "4    1.867558\n",
       "..        ...\n",
       "995  0.412871\n",
       "996 -0.198399\n",
       "997  0.094192\n",
       "998 -1.147611\n",
       "999 -0.358114\n",
       "\n",
       "[1000 rows x 1 columns]"
      ]
     },
     "execution_count": 11,
     "metadata": {},
     "output_type": "execute_result"
    }
   ],
   "source": [
    "# Make Gaussian Distribution\n",
    "np.random.seed(0)\n",
    "data = np.random.normal(size = 1000)\n",
    "\n",
    "# Convert this in DataFrame\n",
    "df = pd.DataFrame(data, columns=['values'])\n",
    "df"
   ]
  },
  {
   "cell_type": "code",
   "execution_count": 12,
   "metadata": {},
   "outputs": [
    {
     "data": {
      "text/plain": [
       "<Axes: ylabel='Count'>"
      ]
     },
     "execution_count": 12,
     "metadata": {},
     "output_type": "execute_result"
    },
    {
     "data": {
      "image/png": "[encoded data removed]",
      "text/plain": [
       "<Figure size 640x480 with 1 Axes>"
      ]
     },
     "metadata": {},
     "output_type": "display_data"
    }
   ],
   "source": [
    "# Visualize the Data\n",
    "sns.histplot(df, kde=True)"
   ]
  },
  {
   "cell_type": "code",
   "execution_count": 17,
   "metadata": {},
   "outputs": [
    {
     "data": {
      "text/html": [
       "<div>\n",
       "<style scoped>\n",
       "    .dataframe tbody tr th:only-of-type {\n",
       "        vertical-align: middle;\n",
       "    }\n",
       "\n",
       "    .dataframe tbody tr th {\n",
       "        vertical-align: top;\n",
       "    }\n",
       "\n",
       "    .dataframe thead th {\n",
       "        text-align: right;\n",
       "    }\n",
       "</style>\n",
       "<table border=\"1\" class=\"dataframe\">\n",
       "  <thead>\n",
       "    <tr style=\"text-align: right;\">\n",
       "      <th></th>\n",
       "      <th>values</th>\n",
       "    </tr>\n",
       "  </thead>\n",
       "  <tbody>\n",
       "    <tr>\n",
       "      <th>0</th>\n",
       "      <td>0.961962</td>\n",
       "    </tr>\n",
       "    <tr>\n",
       "      <th>1</th>\n",
       "      <td>0.684685</td>\n",
       "    </tr>\n",
       "    <tr>\n",
       "      <th>2</th>\n",
       "      <td>0.856857</td>\n",
       "    </tr>\n",
       "    <tr>\n",
       "      <th>3</th>\n",
       "      <td>0.986987</td>\n",
       "    </tr>\n",
       "    <tr>\n",
       "      <th>4</th>\n",
       "      <td>0.966967</td>\n",
       "    </tr>\n",
       "    <tr>\n",
       "      <th>...</th>\n",
       "      <td>...</td>\n",
       "    </tr>\n",
       "    <tr>\n",
       "      <th>995</th>\n",
       "      <td>0.694695</td>\n",
       "    </tr>\n",
       "    <tr>\n",
       "      <th>996</th>\n",
       "      <td>0.444444</td>\n",
       "    </tr>\n",
       "    <tr>\n",
       "      <th>997</th>\n",
       "      <td>0.563564</td>\n",
       "    </tr>\n",
       "    <tr>\n",
       "      <th>998</th>\n",
       "      <td>0.130130</td>\n",
       "    </tr>\n",
       "    <tr>\n",
       "      <th>999</th>\n",
       "      <td>0.386386</td>\n",
       "    </tr>\n",
       "  </tbody>\n",
       "</table>\n",
       "<p>1000 rows × 1 columns</p>\n",
       "</div>"
      ],
      "text/plain": [
       "       values\n",
       "0    0.961962\n",
       "1    0.684685\n",
       "2    0.856857\n",
       "3    0.986987\n",
       "4    0.966967\n",
       "..        ...\n",
       "995  0.694695\n",
       "996  0.444444\n",
       "997  0.563564\n",
       "998  0.130130\n",
       "999  0.386386\n",
       "\n",
       "[1000 rows x 1 columns]"
      ]
     },
     "execution_count": 17,
     "metadata": {},
     "output_type": "execute_result"
    }
   ],
   "source": [
    "# Make Quanitle Transformation\n",
    "from sklearn.preprocessing import QuantileTransformer\n",
    "\n",
    "qt = QuantileTransformer(output_distribution='uniform', random_state=0)\n",
    "transformed_data = qt.fit_transform(df)\n",
    "\n",
    "# Convert this in DataFrame\n",
    "df = pd.DataFrame(transformed_data, columns=['values'])\n",
    "df"
   ]
  },
  {
   "cell_type": "code",
   "execution_count": 18,
   "metadata": {},
   "outputs": [
    {
     "data": {
      "text/plain": [
       "<Axes: ylabel='Count'>"
      ]
     },
     "execution_count": 18,
     "metadata": {},
     "output_type": "execute_result"
    },
    {
     "data": {
      "image/png": "[encoded data removed]",
      "text/plain": [
       "<Figure size 640x480 with 1 Axes>"
      ]
     },
     "metadata": {},
     "output_type": "display_data"
    }
   ],
   "source": [
    "# Visualize the data\n",
    "sns.histplot(df, kde=True)"
   ]
  },
  {
   "cell_type": "markdown",
   "metadata": {},
   "source": [
    "-----"
   ]
  },
  {
   "cell_type": "markdown",
   "metadata": {},
   "source": [
    "# Normalization"
   ]
  },
  {
   "cell_type": "markdown",
   "metadata": {},
   "source": [
    "**`What is Normalization`**?\n",
    "\n",
    "Normalization is the process of scaling the data so that all of the features have a mean of 0 and a standard deviation of 1. This is done to help improve the performance of machine learning models. Normalization is often used in machine learning algorithms to help prevent the model from being overfitting to the data.\n",
    "\n",
    "**`Why is Normalization Important?`**\n",
    "\n",
    "Normalization is important because it helps to standardize the data so that all of the features have a mean of 0 and a standard deviation of 1. This is done to help improve the performance of machine learning models. Normalization is often used in machine learning algorithms to help prevent the model from being overfitting to the data.\n",
    "\n"
   ]
  },
  {
   "cell_type": "code",
   "execution_count": 22,
   "metadata": {},
   "outputs": [
    {
     "name": "stdout",
     "output_type": "stream",
     "text": [
      "Original Data:\n",
      "[[4. 1. 2. 2.]\n",
      " [1. 3. 9. 3.]\n",
      " [5. 7. 5. 1.]]\n",
      "\n",
      "Normalized Data:\n",
      "[[0.8 0.2 0.4 0.4]\n",
      " [0.1 0.3 0.9 0.3]\n",
      " [0.5 0.7 0.5 0.1]]\n"
     ]
    }
   ],
   "source": [
    "import numpy as np\n",
    "from sklearn.preprocessing import Normalizer\n",
    "\n",
    "# Sample data: each row represents a sample, and each column represents a feature\n",
    "data = np.array([[4.0, 1.0, 2.0, 2.0],\n",
    "                 [1.0, 3.0, 9.0, 3.0],\n",
    "                 [5.0, 7.0, 5.0, 1.0]])\n",
    "\n",
    "# Initialize the Normalizer\n",
    "normalizer = Normalizer()\n",
    "\n",
    "# Transform the data using the normalizer\n",
    "normalized_data = normalizer.fit_transform(data)\n",
    "\n",
    "# Print the original data\n",
    "print(\"Original Data:\")\n",
    "print(data)\n",
    "\n",
    "# Print the normalized data\n",
    "print(\"\\nNormalized Data:\")\n",
    "print(normalized_data)"
   ]
  },
  {
   "cell_type": "markdown",
   "metadata": {},
   "source": [
    "## L1 and L2 Normalization\n",
    "\n",
    "Normalization is a technique used to adjust the values of numerical data into a common scale, without distorting differences in the ranges of values. It is commonly used in machine learning preprocessing to ensure that all features contribute equally to the result.\n",
    "\n",
    "### L1 Normalization\n",
    "\n",
    "- **Definition**: L1 normalization scales each sample (row) so that the sum of the absolute values of its components is equal to 1.\n",
    "- **Formula**: For a vector $$ \\mathbf{x} $$, the L1 norm is calculated as:\n",
    "\n",
    "  $$\\|\\mathbf{x}\\|_1 = \\sum_{i=1}^{n} |x_i|$$\n",
    "\n",
    "  Each component of the normalized vector is given by:\n",
    "\n",
    "  $$x_i' = \\frac{x_i}{\\|\\mathbf{x}\\|_1}$$\n",
    "\n",
    "- **Use Cases**: L1 normalization is particularly useful when the data is sparse (many zeros) because it retains the sparsity of the data.\n",
    "\n",
    "### L2 Normalization\n",
    "\n",
    "- **Definition**: L2 normalization scales each sample (row) so that the sum of the squares of its components is equal to 1. This is also known as unit norm or Euclidean norm.\n",
    "- **Formula**: For a vector $$ \\mathbf{x} $$, the L2 norm is calculated as:\n",
    "\n",
    "  $$\\|\\mathbf{x}\\|_2 = \\sqrt{\\sum_{i=1}^{n} x_i^2}$$\n",
    "\n",
    "  Each component of the normalized vector is given by:\n",
    "\n",
    "  $$x_i' = \\frac{x_i}{\\|\\mathbf{x}\\|_2}$$\n",
    "\n",
    "- **Use Cases**: L2 normalization is commonly used in machine learning when dealing with linear models, as it ensures that the length of the feature vectors is consistent, which can lead to better model performance.\n",
    "\n",
    "### Example:\n",
    "\n",
    "Given a sample dataset:\n",
    "\n",
    "$$\n",
    "\\begin{bmatrix}\n",
    "4.0 & 1.0 & 2.0 & 2.0 \\\\\n",
    "1.0 & 3.0 & 9.0 & 3.0 \\\\\n",
    "5.0 & 7.0 & 5.0 & 1.0\n",
    "\\end{bmatrix}\n",
    "$$\n",
    "\n",
    "- **L1 Normalized Data**:\n",
    "\n",
    "$$\n",
    "\\begin{bmatrix}\n",
    "0.5 & 0.125 & 0.25 & 0.25 \\\\\n",
    "0.0667 & 0.2 & 0.6 & 0.2 \\\\\n",
    "0.2778 & 0.3889 & 0.2778 & 0.0556\n",
    "\\end{bmatrix}\n",
    "$$\n",
    "\n",
    "- **L2 Normalized Data**:\n",
    "\n",
    "$$\n",
    "\\begin{bmatrix}\n",
    "0.8 & 0.2 & 0.4 & 0.4 \\\\\n",
    "0.0891 & 0.2673 & 0.8018 & 0.2673 \\\\\n",
    "0.4767 & 0.6674 & 0.4767 & 0.0953\n",
    "\\end{bmatrix}\n",
    "$$\n"
   ]
  },
  {
   "cell_type": "code",
   "execution_count": 24,
   "metadata": {},
   "outputs": [
    {
     "name": "stdout",
     "output_type": "stream",
     "text": [
      "Original Data:\n",
      "[[4. 1. 2. 2.]\n",
      " [1. 3. 9. 3.]\n",
      " [5. 7. 5. 1.]]\n",
      "\n",
      "L1 Normalized Data:\n",
      "[[0.44444444 0.11111111 0.22222222 0.22222222]\n",
      " [0.0625     0.1875     0.5625     0.1875    ]\n",
      " [0.27777778 0.38888889 0.27777778 0.05555556]]\n"
     ]
    }
   ],
   "source": [
    "import numpy as np\n",
    "from sklearn.preprocessing import Normalizer\n",
    "\n",
    "# Sample data: each row represents a sample, and each column represents a feature\n",
    "data = np.array([[4.0, 1.0, 2.0, 2.0],\n",
    "                 [1.0, 3.0, 9.0, 3.0],\n",
    "                 [5.0, 7.0, 5.0, 1.0]])\n",
    "\n",
    "# Initialize the Normalizer with norm='l1'\n",
    "l1_normalizer = Normalizer(norm='l1')\n",
    "\n",
    "# Transform the data using the L1 normalizer\n",
    "l1_normalized_data = l1_normalizer.fit_transform(data)\n",
    "\n",
    "# Print the original data\n",
    "print(\"Original Data:\")\n",
    "print(data)\n",
    "\n",
    "# Print the L1 normalized data\n",
    "print(\"\\nL1 Normalized Data:\")\n",
    "print(l1_normalized_data)"
   ]
  },
  {
   "cell_type": "code",
   "execution_count": 27,
   "metadata": {},
   "outputs": [
    {
     "name": "stdout",
     "output_type": "stream",
     "text": [
      "Original Data:\n",
      "[[4. 1. 2. 2.]\n",
      " [1. 3. 9. 3.]\n",
      " [5. 7. 5. 1.]]\n",
      "\n",
      "L2 Normalized Data:\n",
      "[[0.8 0.2 0.4 0.4]\n",
      " [0.1 0.3 0.9 0.3]\n",
      " [0.5 0.7 0.5 0.1]]\n"
     ]
    }
   ],
   "source": [
    "import numpy as np\n",
    "from sklearn.preprocessing import Normalizer\n",
    "\n",
    "# Sample data: each row represents a sample, and each column represents a feature\n",
    "data = np.array([[4.0, 1.0, 2.0, 2.0],\n",
    "                 [1.0, 3.0, 9.0, 3.0],\n",
    "                 [5.0, 7.0, 5.0, 1.0]])\n",
    "\n",
    "# Initialize the Normalizer with norm='l2'\n",
    "l2_normalizer = Normalizer(norm='l2')\n",
    "\n",
    "# Transform the data using the L2 normalizer\n",
    "l2_normalized_data = l2_normalizer.fit_transform(data)\n",
    "\n",
    "# Print the original data\n",
    "print(\"Original Data:\")\n",
    "print(data)\n",
    "\n",
    "# Print the L2 normalized data\n",
    "print(\"\\nL2 Normalized Data:\")\n",
    "print(l2_normalized_data)"
   ]
  },
  {
   "cell_type": "markdown",
   "metadata": {},
   "source": [
    "## Log Transformation\n",
    "\n",
    "Log transformation is a mathematical operation used to adjust the scale of data by applying a logarithmic function. It is particularly useful in handling skewed data and reducing the impact of large values or outliers. Log transformation can help in stabilizing variance and making patterns in the data more interpretable.\n",
    "\n",
    "### Definition\n",
    "\n",
    "A log transformation applies the logarithm function to each value in the dataset. It can be expressed mathematically as:\n",
    "\n",
    "$$\n",
    "x' = \\log(x + c)\n",
    "$$\n",
    "\n",
    "where:\n",
    "- \\( x \\) is the original value,\n",
    "- \\( x' \\) is the transformed value,\n",
    "- \\( c \\) is a constant added to avoid taking the logarithm of zero or negative values (commonly \\( c = 1 \\)).\n",
    "\n",
    "### Why Use Log Transformation?\n",
    "\n",
    "1. **Reducing Skewness**: Log transformation can help in normalizing skewed data, making it more symmetric.\n",
    "2. **Handling Outliers**: It can reduce the influence of large outliers by compressing the scale of high values.\n",
    "3. **Variance Stabilization**: It can stabilize the variance of data that exhibit increasing variance with increasing mean.\n",
    "\n",
    "### Example\n",
    "\n",
    "Given a sample dataset:\n",
    "\n",
    "$$\n",
    "\\begin{bmatrix}\n",
    "1 & 10 & 100 & 1000 \\\\\n",
    "2 & 20 & 200 & 2000 \\\\\n",
    "3 & 30 & 300 & 3000\n",
    "\\end{bmatrix}\n",
    "$$\n",
    "\n",
    "Applying a log transformation with \\( c = 1 \\) (i.e., \\( x' = \\log(x + 1) \\)):\n",
    "\n",
    "$$\n",
    "\\begin{bmatrix}\n",
    "\\log(1 + 1) & \\log(10 + 1) & \\log(100 + 1) & \\log(1000 + 1) \\\\\n",
    "\\log(2 + 1) & \\log(20 + 1) & \\log(200 + 1) & \\log(2000 + 1) \\\\\n",
    "\\log(3 + 1) & \\log(30 + 1) & \\log(300 + 1) & \\log(3000 + 1)\n",
    "\\end{bmatrix}\n",
    "$$\n",
    "\n",
    "Which results in:\n",
    "\n",
    "$$\n",
    "\\begin{bmatrix}\n",
    "\\log(2) & \\log(11) & \\log(101) & \\log(1001) \\\\\n",
    "\\log(3) & \\log(21) & \\log(201) & \\log(2001) \\\\\n",
    "\\log(4) & \\log(31) & \\log(301) & \\log(3001)\n",
    "\\end{bmatrix}\n",
    "$$"
   ]
  },
  {
   "cell_type": "code",
   "execution_count": 30,
   "metadata": {},
   "outputs": [
    {
     "name": "stdout",
     "output_type": "stream",
     "text": [
      "Original Data:\n",
      "[4.00e+00 1.00e+00 2.00e+00 2.00e+00 1.00e+01 1.23e+02 2.10e+02 3.21e+03]\n",
      "\n",
      "Log Transformed Data:\n",
      "[1.38629436 0.         0.69314718 0.69314718 2.30258509 4.81218436\n",
      " 5.34710753 8.07402622]\n"
     ]
    }
   ],
   "source": [
    "# Sample data to show Log Transformation\n",
    "data = np.array([4.0, 1.0, 2.0, 2.0, 10.0, 123.0, 210.0, 3210.0])\n",
    "\n",
    "# Initialize the Log Transformer\n",
    "log_transformer = np.log(data)\n",
    "\n",
    "# Print the original data\n",
    "print(\"Original Data:\")\n",
    "print(data)\n",
    "\n",
    "# Print the log transformed data\n",
    "print(\"\\nLog Transformed Data:\")\n",
    "print(log_transformer)"
   ]
  },
  {
   "cell_type": "code",
   "execution_count": 31,
   "metadata": {},
   "outputs": [
    {
     "data": {
      "text/plain": [
       "<Axes: ylabel='Count'>"
      ]
     },
     "execution_count": 31,
     "metadata": {},
     "output_type": "execute_result"
    },
    {
     "data": {
      "image/png": "[encoded data removed]",
      "text/plain": [
       "<Figure size 640x480 with 1 Axes>"
      ]
     },
     "metadata": {},
     "output_type": "display_data"
    }
   ],
   "source": [
    "# Visualize the data\n",
    "sns.histplot(log_transformer, kde=True)"
   ]
  },
  {
   "cell_type": "code",
   "execution_count": null,
   "metadata": {},
   "outputs": [],
   "source": [
    " "
   ]
  }
 ],
 "metadata": {
  "kernelspec": {
   "display_name": "timeseries_env",
   "language": "python",
   "name": "python3"
  },
  "language_info": {
   "codemirror_mode": {
    "name": "ipython",
    "version": 3
   },
   "file_extension": ".py",
   "mimetype": "text/x-python",
   "name": "python",
   "nbconvert_exporter": "python",
   "pygments_lexer": "ipython3",
   "version": "3.10.14"
  }
 },
 "nbformat": 4,
 "nbformat_minor": 2
}
