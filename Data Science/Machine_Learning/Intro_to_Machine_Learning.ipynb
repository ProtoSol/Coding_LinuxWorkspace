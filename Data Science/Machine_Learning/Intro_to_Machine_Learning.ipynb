{
 "cells": [
  {
   "cell_type": "markdown",
   "metadata": {},
   "source": [
    "# Machine Learning Intro"
   ]
  },
  {
   "cell_type": "markdown",
   "metadata": {},
   "source": [
    "- The ability of machine to learn from data and make decisions based on that data.\n",
    "- Data -> Learning Prediction -> Decisions\n"
   ]
  },
  {
   "cell_type": "markdown",
   "metadata": {},
   "source": [
    "## Types of Machine Learning"
   ]
  },
  {
   "cell_type": "markdown",
   "metadata": {},
   "source": [
    "1. Supervised\n",
    "    - Works under supervision\n",
    "    - Teacher teaches\n",
    "    - Prediction\n",
    "    - Outcome\n",
    "2. Unsupervised\n",
    "    - No Supervision\n",
    "    - No teacher\n",
    "    - Self learning\n",
    "    - No labelling of data\n",
    "    - Find patterns by itself\n",
    "3. Semi-Supervised\n",
    "    - Mixture of 1 and 2\n",
    "    - Some of the data is labelled most is not labelled.\n",
    "4. Reinfocement\n",
    "    - Hit and Trial learning\n",
    "    - Learn from Mistakes\n",
    "    - Reward and punishment accounted\n",
    "    - Prediction based on reward and punishment\n",
    "    - Depends on feedback"
   ]
  },
  {
   "cell_type": "markdown",
   "metadata": {},
   "source": [
    "### Steps for Making a Machine Learning Model\n",
    "\n",
    "1. **Problem Formulation**: Define the problem you want to solve and identify the key performance indicators\n",
    "2. **Data Collection**: Get the Relevant data from various sources and combine them together in single data sheet.\n",
    "3. **Data Preprocessing**: Converting the Raw data to Clean data, by removing the Anomalies / Outliers / Missing values etc\n",
    "4. **Data Wrangling**: Cleaning the data by removing unecessary features, One line Hot encoding etc.\n",
    "5. **EDA**: Get to know the data and the purpose of the data.\n",
    "6. **Choose a Model**: Choose the model based on the type of data to be used.\n",
    "    - `Regression`: For predicting continous numerical data.\n",
    "    - `Classification`: For predicting the class of the predicted data point.\n",
    "    - `Clustering`: Make cluster/group of the data.\n",
    "7. **Splitting the Data**: Split the data into two parts Independent Variable (Features) and Dependent Variable (Labels).\n",
    "8. **Model Training**: Train the model using the Independent Variable (Features) and Dependent Variable\n",
    "9. **Model Evaluation**: Evaluate the model using the metrics such as accuracy, precision, recall,\n",
    "    - `Accuracy`: The ratio of correct predictions to total predictions.\n",
    "    - `Precision`: The ratio of correct positive predictions to total positive predictions.\n",
    "    - `Recall`: The ratio of correct positive predictions to total actual positive predictions.\n",
    "10. **Model Deployment**: Deploy the model in production environment.\n",
    "11. **Model Monitoring**: Monitor the model performance and update the model if necessary.\n",
    "12. **Model Maintenance**: Maintain the model by updating the model if necessary.\n",
    "13. **Model Retraining**: Retrain the model if necessary.\n",
    "14. **Model Explanation**: Explain the model to the stakeholders.\n"
   ]
  },
  {
   "cell_type": "markdown",
   "metadata": {},
   "source": [
    "## Algorithm"
   ]
  },
  {
   "cell_type": "markdown",
   "metadata": {},
   "source": [
    "`Algorithm`: It is a set of rules or instructions given to an AI system to help\n",
    "it learn from data.\\\n",
    "    - Example: `Decision Tree` is an algorithm used for classification and regression tasks."
   ]
  },
  {
   "cell_type": "markdown",
   "metadata": {},
   "source": []
  }
 ],
 "metadata": {
  "language_info": {
   "name": "python"
  }
 },
 "nbformat": 4,
 "nbformat_minor": 2
}
