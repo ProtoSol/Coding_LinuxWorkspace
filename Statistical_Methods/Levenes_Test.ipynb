{
 "cells": [
  {
   "cell_type": "markdown",
   "metadata": {},
   "source": [
    "# Homogenity Test"
   ]
  },
  {
   "cell_type": "markdown",
   "metadata": {},
   "source": [
    "## 1. Levene's Test"
   ]
  },
  {
   "cell_type": "code",
   "execution_count": 1,
   "metadata": {},
   "outputs": [
    {
     "name": "stdout",
     "output_type": "stream",
     "text": [
      "Levene's statistic: 0.273\n",
      "P-value: 0.764\n",
      "Fail to reject H0: Variances are not significantly different.\n"
     ]
    }
   ],
   "source": [
    "from scipy import stats\n",
    "\n",
    "# Define your data\n",
    "group1 = [23, 21, 20, 24, 22, 25, 19, 23]\n",
    "group2 = [30, 29, 31, 35, 32, 33, 28, 34]\n",
    "group3 = [40, 42, 39, 41, 45, 44, 43, 38]\n",
    "\n",
    "# Perform Levene's test\n",
    "stat, p_value = stats.levene(group1, group2, group3)\n",
    "\n",
    "# Output results\n",
    "print(f\"Levene's statistic: {stat:.3f}\")\n",
    "print(f\"P-value: {p_value:.3f}\")\n",
    "\n",
    "if p_value < 0.05:\n",
    "    print(\"Reject H0: Variances are significantly different.\")\n",
    "else:\n",
    "    print(\"Fail to reject H0: Variances are not significantly different.\")\n"
   ]
  },
  {
   "cell_type": "markdown",
   "metadata": {},
   "source": [
    "Thus the variance of the variables are equal."
   ]
  },
  {
   "cell_type": "code",
   "execution_count": 2,
   "metadata": {},
   "outputs": [
    {
     "name": "stdout",
     "output_type": "stream",
     "text": [
      "Bartlett's statistic: 0.294\n",
      "P-value: 0.863\n",
      "Fail to reject H0: Variances are not significantly different.\n"
     ]
    }
   ],
   "source": [
    "from scipy import stats\n",
    "\n",
    "# Define your data\n",
    "group1 = [23, 21, 20, 24, 22, 25, 19, 23]\n",
    "group2 = [30, 29, 31, 35, 32, 33, 28, 34]\n",
    "group3 = [40, 42, 39, 41, 45, 44, 43, 38]\n",
    "\n",
    "# Perform Bartlett's test\n",
    "stat, p_value = stats.bartlett(group1, group2, group3)\n",
    "\n",
    "# Output results\n",
    "print(f\"Bartlett's statistic: {stat:.3f}\")\n",
    "print(f\"P-value: {p_value:.3f}\")\n",
    "\n",
    "if p_value < 0.05:\n",
    "    print(\"Reject H0: Variances are significantly different.\")\n",
    "else:\n",
    "    print(\"Fail to reject H0: Variances are not significantly different.\")\n"
   ]
  }
 ],
 "metadata": {
  "kernelspec": {
   "display_name": "timeseries_env",
   "language": "python",
   "name": "python3"
  },
  "language_info": {
   "codemirror_mode": {
    "name": "ipython",
    "version": 3
   },
   "file_extension": ".py",
   "mimetype": "text/x-python",
   "name": "python",
   "nbconvert_exporter": "python",
   "pygments_lexer": "ipython3",
   "version": "3.9.15"
  }
 },
 "nbformat": 4,
 "nbformat_minor": 2
}
